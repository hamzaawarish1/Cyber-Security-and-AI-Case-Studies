{
 "cells": [
  {
   "cell_type": "markdown",
   "id": "f3d66fa9-5638-49eb-b6e0-72da6ba2da07",
   "metadata": {},
   "source": [
    "<h3><b>Activity 1: Implementing RSA</b></h3>"
   ]
  },
  {
   "cell_type": "markdown",
   "id": "bd93cfcf-e8a2-4109-be75-972721f25889",
   "metadata": {},
   "source": [
    "<h4><b>RSA Key Generation, Encryption, and Decryption</b></h4>"
   ]
  },
  {
   "cell_type": "code",
   "execution_count": 1,
   "id": "d60b78b7-7b66-4b9d-a1ea-e481e959e8d6",
   "metadata": {},
   "outputs": [
    {
     "name": "stdout",
     "output_type": "stream",
     "text": [
      "Public Key (e, n): (17, 3233)\n",
      "Private Key (d, n): (2753, 3233)\n",
      "p: 61, q: 53\n",
      "Encrypted Message: 3086\n",
      "Decrypted Message: 5\n"
     ]
    }
   ],
   "source": [
    "from Crypto.Util.number import inverse, getPrime\n",
    "import random\n",
    "\n",
    "# Step 1: Key Generation\n",
    "def generate_rsa_keys():\n",
    "    # Choosing two small primes manually or randomly\n",
    "    p = 61  # example prime\n",
    "    q = 53  # example prime\n",
    "    n = p * q\n",
    "    phi = (p - 1) * (q - 1)\n",
    "\n",
    "    e = 17  # common choice\n",
    "    d = inverse(e, phi)  # Modular inverse of e modulo phi\n",
    "\n",
    "    public_key = (e, n)\n",
    "    private_key = (d, n)\n",
    "\n",
    "    return public_key, private_key, p, q\n",
    "\n",
    "# Step 2: Encrypt a message\n",
    "def encrypt(message, public_key):\n",
    "    e, n = public_key\n",
    "    cipher = pow(message, e, n)\n",
    "    return cipher\n",
    "\n",
    "# Step 3: Decrypt the message\n",
    "def decrypt(ciphertext, private_key):\n",
    "    d, n = private_key\n",
    "    message = pow(ciphertext, d, n)\n",
    "    return message\n",
    "\n",
    "# Testing\n",
    "public_key, private_key, p, q = generate_rsa_keys()\n",
    "\n",
    "print(f\"Public Key (e, n): {public_key}\")\n",
    "print(f\"Private Key (d, n): {private_key}\")\n",
    "print(f\"p: {p}, q: {q}\")\n",
    "\n",
    "message = 5  # Example message\n",
    "ciphertext = encrypt(message, public_key)\n",
    "print(f\"Encrypted Message: {ciphertext}\")\n",
    "\n",
    "decrypted_message = decrypt(ciphertext, private_key)\n",
    "print(f\"Decrypted Message: {decrypted_message}\")\n"
   ]
  },
  {
   "cell_type": "markdown",
   "id": "f0d92f0c-6519-476b-897f-41ac0a6f2494",
   "metadata": {},
   "source": [
    "<h3><b>Activity 2: Simulating Diffie-Hellman Key Exchange</b></h3>"
   ]
  },
  {
   "cell_type": "code",
   "execution_count": 2,
   "id": "869f95ca-6a64-4837-b57c-130e63affd58",
   "metadata": {},
   "outputs": [
    {
     "name": "stdout",
     "output_type": "stream",
     "text": [
      "Student 1's public key (A): 20\n",
      "Student 2's public key (B): 6\n",
      "Shared Secret computed by Student 1: 2\n",
      "Shared Secret computed by Student 2: 2\n"
     ]
    }
   ],
   "source": [
    "import random\n",
    "\n",
    "# Public values (agreed upon)\n",
    "p = 23   # A small prime number\n",
    "g = 5    # A primitive root modulo 23\n",
    "\n",
    "# Each student selects a private key\n",
    "private_key_student1 = random.randint(1, p-1)\n",
    "private_key_student2 = random.randint(1, p-1)\n",
    "\n",
    "# Public keys\n",
    "A = pow(g, private_key_student1, p)\n",
    "B = pow(g, private_key_student2, p)\n",
    "\n",
    "print(f\"Student 1's public key (A): {A}\")\n",
    "print(f\"Student 2's public key (B): {B}\")\n",
    "\n",
    "# Exchange A and B, then compute the shared secret\n",
    "shared_secret_student1 = pow(B, private_key_student1, p)\n",
    "shared_secret_student2 = pow(A, private_key_student2, p)\n",
    "\n",
    "print(f\"Shared Secret computed by Student 1: {shared_secret_student1}\")\n",
    "print(f\"Shared Secret computed by Student 2: {shared_secret_student2}\")\n",
    "\n",
    "# Should be the same!\n",
    "assert shared_secret_student1 == shared_secret_student2\n"
   ]
  },
  {
   "cell_type": "markdown",
   "id": "6e98deeb-1b90-4e74-99ec-3d359f10aca2",
   "metadata": {},
   "source": [
    "<h3><b>Optional Challenge: Hybrid System (Diffie-Hellman + AES)</b></h3>"
   ]
  },
  {
   "cell_type": "code",
   "execution_count": 3,
   "id": "71ee2d30-429e-4511-bcfc-df16b094126b",
   "metadata": {},
   "outputs": [
    {
     "name": "stdout",
     "output_type": "stream",
     "text": [
      "Encrypted Message: 2bd7d06eb47d887468207c62118fd641206f2828b6e4e665917c9e4baadf87a6\n",
      "Decrypted Message: Hello Partner!\n"
     ]
    }
   ],
   "source": [
    "from Crypto.Cipher import AES\n",
    "from Crypto.Util.Padding import pad, unpad\n",
    "import hashlib\n",
    "\n",
    "# Using the shared secret from Diffie-Hellman\n",
    "shared_secret = shared_secret_student1\n",
    "\n",
    "# Derive AES key from shared secret (must be 16 bytes for AES-128)\n",
    "key = hashlib.sha256(str(shared_secret).encode()).digest()[:16]\n",
    "\n",
    "# Encrypt a message\n",
    "def encrypt_message(message, key):\n",
    "    cipher = AES.new(key, AES.MODE_CBC)\n",
    "    ct_bytes = cipher.encrypt(pad(message.encode(), AES.block_size))\n",
    "    iv = cipher.iv\n",
    "    return iv + ct_bytes\n",
    "\n",
    "# Decrypt a message\n",
    "def decrypt_message(encrypted_data, key):\n",
    "    iv = encrypted_data[:16]\n",
    "    ct = encrypted_data[16:]\n",
    "    cipher = AES.new(key, AES.MODE_CBC, iv)\n",
    "    pt = unpad(cipher.decrypt(ct), AES.block_size)\n",
    "    return pt.decode()\n",
    "\n",
    "# Example Usage\n",
    "message = \"Hello Partner!\"\n",
    "encrypted = encrypt_message(message, key)\n",
    "print(f\"Encrypted Message: {encrypted.hex()}\")\n",
    "\n",
    "decrypted = decrypt_message(encrypted, key)\n",
    "print(f\"Decrypted Message: {decrypted}\")\n"
   ]
  },
  {
   "cell_type": "code",
   "execution_count": null,
   "id": "4a9dbea9-783e-42e2-842c-ae9317bf0f52",
   "metadata": {},
   "outputs": [],
   "source": []
  }
 ],
 "metadata": {
  "kernelspec": {
   "display_name": "Python 3 (ipykernel)",
   "language": "python",
   "name": "python3"
  },
  "language_info": {
   "codemirror_mode": {
    "name": "ipython",
    "version": 3
   },
   "file_extension": ".py",
   "mimetype": "text/x-python",
   "name": "python",
   "nbconvert_exporter": "python",
   "pygments_lexer": "ipython3",
   "version": "3.11.0"
  }
 },
 "nbformat": 4,
 "nbformat_minor": 5
}
